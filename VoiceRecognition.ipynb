{
 "cells": [
  {
   "cell_type": "code",
   "execution_count": 144,
   "metadata": {},
   "outputs": [],
   "source": [
    "import speech_recognition as sr\n",
    "from wordcloud import WordCloud, STOPWORDS \n",
    "import matplotlib.pyplot as plt \n",
    "import pandas as pd \n",
    "import time"
   ]
  },
  {
   "cell_type": "code",
   "execution_count": 145,
   "metadata": {},
   "outputs": [],
   "source": [
    "r = sr.Recognizer()\n",
    "m = sr.Microphone()"
   ]
  },
  {
   "cell_type": "code",
   "execution_count": 148,
   "metadata": {},
   "outputs": [
    {
     "name": "stdout",
     "output_type": "stream",
     "text": [
      "Say Something\n",
      "TEXT:hello\n",
      "Time Over, Thanks\n"
     ]
    },
    {
     "data": {
      "image/png": "[encoded data removed]",
      "text/plain": [
       "<Figure size 576x576 with 1 Axes>"
      ]
     },
     "metadata": {
      "needs_background": "light"
     },
     "output_type": "display_data"
    }
   ],
   "source": [
    "with sr.Microphone() as source:\n",
    "    print(\"Say Something\");\n",
    "    #r.adjust_for_ambient_noise(source, duration = 1)\n",
    "    #r.energy_threshold = 400\n",
    "    #r.dynamic_energy_threshold = False\n",
    "    \n",
    "    timeout = time.time() + 10*1\n",
    "    sentences = []\n",
    "    outres = ''\n",
    "    \n",
    "    while timeout>time.time():\n",
    "            #r.pause_threshold = 0.5\n",
    "            #r.pause_threshold = 2\n",
    "            audio = r.listen(source,phrase_time_limit=1)\n",
    "        \n",
    "    try:\n",
    "            value = r.recognize_google(audio)\n",
    "            print(\"first sentence:\"+value)\n",
    "            stopwords = [\"got\", \"born\", \"start\"] + list(STOPWORDS) \n",
    "            result = ' '\n",
    "            if str is bytes: \n",
    "                    result = u\"{}\".format(value).encode(\"utf-8\")\n",
    "            else: \n",
    "                    result = \"{}\".format(value)\n",
    "            \n",
    "            print()\n",
    "            sentences.append(result)\n",
    "            \n",
    "    except:\n",
    "        pass;\n",
    "    \n",
    "    \n",
    "    for x in sentences:\n",
    "        outres += x\n",
    "        \n",
    "    print(\"TEXT:\"+ outres);\n",
    "    \n",
    "    with open(\"outputs_new.txt\",\"a\") as f:\n",
    "            f.write(outres)\n",
    "            #f.close()\n",
    "            \n",
    "            print(\"Time Over, Thanks\")\n",
    "            wordcloud = WordCloud(width = 800, height = 800, \n",
    "                            background_color ='white', \n",
    "                            stopwords = stopwords, \n",
    "                            min_font_size = 10).generate(outres)\n",
    "  \n",
    "        # plot the WordCloud image                        \n",
    "            #plt.plot(range(10))\n",
    "            plt.figure(figsize = (8, 8), facecolor = None) \n",
    "            plt.imshow(wordcloud) \n",
    "            plt.axis(\"off\") \n",
    "            plt.tight_layout(pad = 0) \n",
    "  \n",
    "            plt.show() \n",
    "\n",
    "        "
   ]
  },
  {
   "cell_type": "code",
   "execution_count": null,
   "metadata": {},
   "outputs": [],
   "source": []
  },
  {
   "cell_type": "code",
   "execution_count": null,
   "metadata": {},
   "outputs": [],
   "source": []
  }
 ],
 "metadata": {
  "kernelspec": {
   "display_name": "Python 3",
   "language": "python",
   "name": "python3"
  },
  "language_info": {
   "codemirror_mode": {
    "name": "ipython",
    "version": 3
   },
   "file_extension": ".py",
   "mimetype": "text/x-python",
   "name": "python",
   "nbconvert_exporter": "python",
   "pygments_lexer": "ipython3",
   "version": "3.7.1"
  }
 },
 "nbformat": 4,
 "nbformat_minor": 2
}
